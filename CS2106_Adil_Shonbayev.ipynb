{
 "cells": [
  {
   "cell_type": "markdown",
   "id": "48223b13-b44b-4865-9554-b57d5b31e7e2",
   "metadata": {},
   "source": [
    "# Big Data in Law Enforcement"
   ]
  },
  {
   "cell_type": "markdown",
   "id": "2de58b2a-82b1-49ae-9428-96c633582c38",
   "metadata": {},
   "source": [
    "## Introduction\n",
    "CyberSecurity is a science about virtual security in 21st century. We live in a dangerous society. Big Data is a science about Data which is Big, so Big we invented a specific science for it. "
   ]
  },
  {
   "cell_type": "markdown",
   "id": "ed26c7fd-f92f-4e7d-a1c6-85b3c5fed416",
   "metadata": {},
   "source": [
    "**Objectives**\n",
    "* Popular Languages in Data Science\n",
    "* Popular Libraries in Data Science\n",
    "* Popular american tribes in Data Science and Anacondas\n",
    "* A few examples of arith*meth*ic expressions"
   ]
  },
  {
   "cell_type": "markdown",
   "id": "932ce6c5-5d18-4753-a949-97655c5ed63c",
   "metadata": {},
   "source": [
    "*Some of the popular languages that Data Scientists use are:*\n",
    "1. Python\n",
    "2. SQL\n",
    "3. English"
   ]
  },
  {
   "cell_type": "markdown",
   "id": "a5c145a8-c09c-402a-81ea-5a2a21995deb",
   "metadata": {},
   "source": [
    "*Some of the commonly used libraries used by Data Scientist include:* \n",
    "* Pandas\n",
    "* MatPlotLib\n",
    "* National Library of the Republic of Kazakhstan"
   ]
  },
  {
   "cell_type": "markdown",
   "id": "cd8cf2b5-b051-4a78-b3a0-dc1f64776620",
   "metadata": {},
   "source": [
    "|DATA SCIENCE|\n",
    "--------------\n",
    "|Apache|\n",
    "|Cherokee|\n",
    "|Comanche|\n",
    "|Anacondas|\n",
    "\n",
    "(I don't know anything besides Apache)"
   ]
  },
  {
   "cell_type": "markdown",
   "id": "0c79d6a3-ce26-4da8-a45b-6fb60d57ea1b",
   "metadata": {},
   "source": [
    "***Below are a few examples of evaluating arithmetic expressions in Python.***"
   ]
  },
  {
   "cell_type": "code",
   "execution_count": 9,
   "id": "84d9d5db-8627-4ae0-917f-038f5de388a2",
   "metadata": {},
   "outputs": [
    {
     "data": {
      "text/plain": [
       "33"
      ]
     },
     "execution_count": 9,
     "metadata": {},
     "output_type": "execute_result"
    }
   ],
   "source": [
    "#This is not a simple arithmetic expression\n",
    "(4*6)+9"
   ]
  },
  {
   "cell_type": "code",
   "execution_count": 10,
   "id": "809108e5-5379-4332-ac4f-80633e9d0bd6",
   "metadata": {},
   "outputs": [
    {
     "data": {
      "text/plain": [
       "5.0"
      ]
     },
     "execution_count": 10,
     "metadata": {},
     "output_type": "execute_result"
    }
   ],
   "source": [
    "#This will convert 300 minutes to hours by dividing by 60.\n",
    "300/60"
   ]
  },
  {
   "cell_type": "markdown",
   "id": "d1f17505-a885-4bcb-b17f-095af658c612",
   "metadata": {},
   "source": [
    "## **Author**\n",
    "Shonbayev Adil CS2106"
   ]
  }
 ],
 "metadata": {
  "kernelspec": {
   "display_name": "Python 3 (ipykernel)",
   "language": "python",
   "name": "python3"
  },
  "language_info": {
   "codemirror_mode": {
    "name": "ipython",
    "version": 3
   },
   "file_extension": ".py",
   "mimetype": "text/x-python",
   "name": "python",
   "nbconvert_exporter": "python",
   "pygments_lexer": "ipython3",
   "version": "3.10.7"
  }
 },
 "nbformat": 4,
 "nbformat_minor": 5
}
